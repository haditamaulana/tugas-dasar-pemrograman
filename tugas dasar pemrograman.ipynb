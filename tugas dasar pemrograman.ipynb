{
 "cells": [
  {
   "cell_type": "code",
   "execution_count": 8,
   "id": "942a36ae",
   "metadata": {},
   "outputs": [
    {
     "name": "stdout",
     "output_type": "stream",
     "text": [
      "massukan alas segitiga: 12\n",
      "massukan tinggi segitiga: 4\n",
      "luas segitiga:  24.0\n"
     ]
    }
   ],
   "source": [
    "#menghitung luas segitiga\n",
    "alas = int(input(\"massukan alas segitiga: \"))\n",
    "tinggi = int(input(\"massukan tinggi segitiga: \"))\n",
    "\n",
    "luas = (1 * alas * tinggi) / 2\n",
    "\n",
    "print (\"luas segitiga: \",luas)"
   ]
  },
  {
   "cell_type": "code",
   "execution_count": 6,
   "id": "888b170d",
   "metadata": {},
   "outputs": [
    {
     "name": "stdout",
     "output_type": "stream",
     "text": [
      "tulis sisi kubus: 40\n",
      "volume kubus adalah %0,5f\n"
     ]
    }
   ],
   "source": [
    "#menghitung volume kubus\n",
    "sisi = float(input(\"tulis sisi kubus: \"))\n",
    "\n",
    "#hitung volume kubus\n",
    "volume = sisi ** 3\n",
    "\n",
    "#menampilkan hasil perhitungan\n",
    "\n",
    "print (\"volume kubus adalah %0,5f\")"
   ]
  },
  {
   "cell_type": "code",
   "execution_count": 7,
   "id": "767cb684",
   "metadata": {},
   "outputs": [
    {
     "name": "stdout",
     "output_type": "stream",
     "text": [
      "masukkan panjang jari jari lingkaran: 25\n",
      "luas lingkaran adalah : 1962.5\n"
     ]
    }
   ],
   "source": [
    "#menghitung luas lingkaras\n",
    "phi = 3.14\n",
    "\n",
    "#hitung luas lingkaran\n",
    "r = float(input(\"masukkan panjang jari jari lingkaran: \"))\n",
    "luas = phi*r*r\n",
    "\n",
    "#menampilkan hasil perhitungan\n",
    "\n",
    "print (\"luas lingkaran adalah : \"+ str(luas))"
   ]
  }
 ],
 "metadata": {
  "kernelspec": {
   "display_name": "Python 3 (ipykernel)",
   "language": "python",
   "name": "python3"
  },
  "language_info": {
   "codemirror_mode": {
    "name": "ipython",
    "version": 3
   },
   "file_extension": ".py",
   "mimetype": "text/x-python",
   "name": "python",
   "nbconvert_exporter": "python",
   "pygments_lexer": "ipython3",
   "version": "3.10.2"
  }
 },
 "nbformat": 4,
 "nbformat_minor": 5
}
